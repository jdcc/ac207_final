{
 "cells": [
  {
   "cell_type": "code",
   "execution_count": 3,
   "metadata": {},
   "outputs": [
    {
     "name": "stdout",
     "output_type": "stream",
     "text": [
      "The autoreload extension is already loaded. To reload it, use:\n",
      "  %reload_ext autoreload\n"
     ]
    }
   ],
   "source": [
    "%load_ext autoreload\n",
    "%autoreload 2"
   ]
  },
  {
   "cell_type": "code",
   "execution_count": 1,
   "metadata": {},
   "outputs": [
    {
     "ename": "ModuleNotFoundError",
     "evalue": "No module named 'jax.misc'",
     "output_type": "error",
     "traceback": [
      "\u001b[0;31m---------------------------------------------------------------------------\u001b[0m",
      "\u001b[0;31mModuleNotFoundError\u001b[0m                       Traceback (most recent call last)",
      "\u001b[0;32m<ipython-input-1-137dbd00c7c6>\u001b[0m in \u001b[0;36m<module>\u001b[0;34m\u001b[0m\n\u001b[1;32m     10\u001b[0m \u001b[0;32mimport\u001b[0m \u001b[0mmath\u001b[0m\u001b[0;34m\u001b[0m\u001b[0;34m\u001b[0m\u001b[0m\n\u001b[1;32m     11\u001b[0m \u001b[0;32mimport\u001b[0m \u001b[0mpdb\u001b[0m\u001b[0;34m\u001b[0m\u001b[0;34m\u001b[0m\u001b[0m\n\u001b[0;32m---> 12\u001b[0;31m \u001b[0;32mfrom\u001b[0m \u001b[0mnn_models\u001b[0m \u001b[0;32mimport\u001b[0m \u001b[0mFeedforward\u001b[0m\u001b[0;34m\u001b[0m\u001b[0;34m\u001b[0m\u001b[0m\n\u001b[0m\u001b[1;32m     13\u001b[0m \u001b[0;32mimport\u001b[0m \u001b[0mmatplotlib\u001b[0m\u001b[0;34m.\u001b[0m\u001b[0mpyplot\u001b[0m \u001b[0;32mas\u001b[0m \u001b[0mplt\u001b[0m\u001b[0;34m\u001b[0m\u001b[0;34m\u001b[0m\u001b[0m\n\u001b[1;32m     14\u001b[0m \u001b[0;32mfrom\u001b[0m \u001b[0mmpl_toolkits\u001b[0m\u001b[0;34m.\u001b[0m\u001b[0mmplot3d\u001b[0m \u001b[0;32mimport\u001b[0m \u001b[0mAxes3D\u001b[0m\u001b[0;34m\u001b[0m\u001b[0;34m\u001b[0m\u001b[0m\n",
      "\u001b[0;32m~/am207/project/nn_models.py\u001b[0m in \u001b[0;36m<module>\u001b[0;34m\u001b[0m\n\u001b[1;32m      1\u001b[0m \u001b[0;32mimport\u001b[0m \u001b[0mjax\u001b[0m\u001b[0;34m.\u001b[0m\u001b[0mnumpy\u001b[0m \u001b[0;32mas\u001b[0m \u001b[0mnp\u001b[0m\u001b[0;34m\u001b[0m\u001b[0;34m\u001b[0m\u001b[0m\n\u001b[1;32m      2\u001b[0m \u001b[0;32mfrom\u001b[0m \u001b[0mjax\u001b[0m \u001b[0;32mimport\u001b[0m \u001b[0mgrad\u001b[0m\u001b[0;34m\u001b[0m\u001b[0;34m\u001b[0m\u001b[0m\n\u001b[0;32m----> 3\u001b[0;31m \u001b[0;32mfrom\u001b[0m \u001b[0mjax\u001b[0m\u001b[0;34m.\u001b[0m\u001b[0mmisc\u001b[0m\u001b[0;34m.\u001b[0m\u001b[0moptimizers\u001b[0m \u001b[0;32mimport\u001b[0m \u001b[0madam\u001b[0m\u001b[0;34m,\u001b[0m \u001b[0msgd\u001b[0m\u001b[0;34m\u001b[0m\u001b[0;34m\u001b[0m\u001b[0m\n\u001b[0m\u001b[1;32m      4\u001b[0m \u001b[0;34m\u001b[0m\u001b[0m\n\u001b[1;32m      5\u001b[0m \u001b[0;32mclass\u001b[0m \u001b[0mFeedforward\u001b[0m\u001b[0;34m:\u001b[0m\u001b[0;34m\u001b[0m\u001b[0;34m\u001b[0m\u001b[0m\n",
      "\u001b[0;31mModuleNotFoundError\u001b[0m: No module named 'jax.misc'"
     ]
    }
   ],
   "source": [
    "from scipy.special import logsumexp\n",
    "import autograd.numpy as np\n",
    "from autograd import scipy as sp\n",
    "from autograd import grad\n",
    "from autograd.misc.optimizers import adam, sgd\n",
    "import autograd.scipy.stats.norm as norm\n",
    "from autograd.scipy.stats import multivariate_normal\n",
    "from autograd.scipy.special import expit\n",
    "import numpy\n",
    "import math\n",
    "import pdb\n",
    "from nn_models import Feedforward\n",
    "import matplotlib.pyplot as plt\n",
    "from mpl_toolkits.mplot3d import Axes3D\n",
    "%matplotlib inline\n",
    "import sys"
   ]
  },
  {
   "cell_type": "code",
   "execution_count": null,
   "metadata": {},
   "outputs": [],
   "source": [
    "class VAE:\n",
    "    def __init__(self, decoder_architecture, encoder_architecture, x_var, random=None, decoder_weights=None, encoder_weights=None):\n",
    "        '''constructor'''\n",
    "        self.x_dim = decoder_architecture['output_dim']\n",
    "        self.z_dim = decoder_architecture['input_dim']\n",
    "\n",
    "        self.x_var = x_var\n",
    "\n",
    "        assert encoder_architecture['input_dim'] == self.x_dim\n",
    "        assert encoder_architecture['output_dim'] == self.z_dim * 2\n",
    "\n",
    "        self.decoder = Feedforward(decoder_architecture, random=random, weights=decoder_weights)\n",
    "        self.encoder = Feedforward(encoder_architecture, random=random, weights=encoder_weights)\n",
    "\n",
    "        self.objective_trace = np.empty((1, 1))\n",
    "        self.param_trace = np.empty((1, self.decoder.D + self.encoder.D))\n",
    "        self.S = 10\n",
    "\n",
    "        if random is not None:\n",
    "            self.random = random\n",
    "        else:\n",
    "            self.random = np.random.RandomState(0)\n",
    "            \n",
    "    def generate(self, weights=None, N=100):\n",
    "        '''use the generative model to generate x given zs sampled from the prior'''\n",
    "        z_samples = self.random.normal(0, 1, size=(self.z_dim, N))\n",
    "\n",
    "        if weights is None:\n",
    "            x_samples = self.decoder.forward(self.decoder.weights, z_samples)\n",
    "        else:\n",
    "            x_samples = self.decoder.forward(weights, z_samples)\n",
    "            \n",
    "        return x_samples[0]\n",
    "\n",
    "    def infer(self, x, weights=None):\n",
    "        '''use the inference model to infer parameters of q(z|x)'''\n",
    "        if weights is None:\n",
    "            z = self.encoder.forward(self.encoder.weights, x)\n",
    "        else:\n",
    "            z = self.encoder.forward(weights, x)\n",
    "            \n",
    "        return z[0]\n",
    "    \n",
    "    def unpack_params(self, z_params):\n",
    "        '''unpack variational parameters for q(z|x)'''\n",
    "        assert len(z_params.shape) == 2\n",
    "        assert z_params.shape[0] == 2 * self.z_dim\n",
    "\n",
    "        mean, parametrized_var = z_params[:self.z_dim], z_params[self.z_dim:]\n",
    "        std = np.exp(parametrized_var)\n",
    "\n",
    "        return mean, std\n",
    "    \n",
    "    def unpack_weights(self, params):\n",
    "        '''unpack the weights for the encoder and decoder'''\n",
    "        assert len(params.shape) == 2\n",
    "        assert params.shape[1] == self.encoder.D + self.decoder.D\n",
    "        \n",
    "        decoder_weights = params[:, :self.decoder.D].reshape((1, -1))\n",
    "        encoder_weights = params[:, self.decoder.D:].reshape((1, -1))\n",
    "        \n",
    "        return encoder_weights, decoder_weights\n",
    "    \n",
    "    def make_objective(self, x_train, S):\n",
    "        '''make variational objective function and gradient of the variational objective'''\n",
    "        assert len(x_train.shape) == 2\n",
    "        assert x_train.shape[0] == self.x_dim\n",
    "        \n",
    "\n",
    "        if S is not None:\n",
    "            self.S = S\n",
    "\n",
    "        N = x_train.shape[1]\n",
    "        x_dummy = np.zeros((self.S, self.x_dim, N))\n",
    "\n",
    "           \n",
    "        def variational_objective(params, t):\n",
    "            '''definition of the ELBO'''\n",
    "            encoder_weights, decoder_weights = self.unpack_weights(params)\n",
    "\n",
    "            #infer z's\n",
    "            z_params = self.encoder.forward(encoder_weights, x_train)[0]\n",
    "            \n",
    "            #unpack var parameters\n",
    "            mean, std = self.unpack_params(z_params)\n",
    "            assert std.shape == (self.z_dim, N)\n",
    "            assert mean.shape == (self.z_dim, N)\n",
    "            \n",
    "            #sample z's\n",
    "            z_samples = np.random.normal(0, 1, size=(self.S, self.z_dim, N)) * std + mean\n",
    "            assert z_samples.shape == (self.S, self.z_dim, N)\n",
    "            \n",
    "            #predict x's\n",
    "            x = self.decoder.forward(decoder_weights, z_samples)\n",
    "            assert x.shape == (self.S, self.x_dim, N)\n",
    "            \n",
    "            #evaluate log-likelihood\n",
    "            log_likelihood = np.sum(norm.logpdf(x_train, x, self.x_var ** 0.5), axis=-2)\n",
    "            assert log_likelihood.shape == (self.S, N)\n",
    "                        \n",
    "            #evaluate sampled z's under prior\n",
    "            log_pz = np.sum(norm.logpdf(z_samples, 0.0, 1.0), axis=-2)\n",
    "            assert log_pz.shape == (self.S, N)\n",
    "            \n",
    "            #evaluate sampled z's under variational distribution\n",
    "            log_qz_given_x = np.sum(norm.logpdf(z_samples, mean, std), axis=-2)\n",
    "            assert log_qz_given_x.shape == (self.S, N)\n",
    "            \n",
    "            #compute the elbo\n",
    "            elbo = np.mean(log_likelihood - log_qz_given_x + log_pz)\n",
    "            \n",
    "            #return the negative elbo to be minimized\n",
    "            return -elbo\n",
    "            \n",
    "            \n",
    "        return variational_objective, grad(variational_objective)\n",
    "    \n",
    "                          \n",
    "    def fit(self, x_train, S=None, params=None):\n",
    "        '''minimize -ELBO'''\n",
    "        assert x_train.shape[0] == self.x_dim\n",
    "\n",
    "        ### make objective function for training\n",
    "        objective, gradient = self.make_objective(x_train, S)\n",
    "\n",
    "        ### set up optimization\n",
    "        step_size = 0.01\n",
    "        max_iteration = 5000\n",
    "        check_point = 100\n",
    "        param_init = self.random.normal(0, 0.3, size=(1, self.decoder.D + self.encoder.D))\n",
    "        mass = None\n",
    "        optimizer = 'adam'\n",
    "        random_restarts = 1\n",
    "\n",
    "        if 'step_size' in params.keys():\n",
    "            step_size = params['step_size']\n",
    "        if 'max_iteration' in params.keys():\n",
    "            max_iteration = params['max_iteration']\n",
    "        if 'check_point' in params.keys():\n",
    "            check_point = params['check_point']\n",
    "        if 'init' in params.keys():\n",
    "            param_init = params['init']\n",
    "        if 'call_back' in params.keys():\n",
    "            call_back = params['call_back']\n",
    "        if 'mass' in params.keys():\n",
    "            mass = params['mass']\n",
    "        if 'optimizer' in params.keys():\n",
    "            optimizer = params['optimizer']\n",
    "        if 'random_restarts' in params.keys():\n",
    "            random_restarts = params['random_restarts']\n",
    "\n",
    "        def call_back(params, iteration, g):\n",
    "            ''' Actions per optimization step '''\n",
    "            objective_val = objective(params, iteration)\n",
    "            self.objective_trace = np.vstack((self.objective_trace, objective_val))\n",
    "            self.param_trace = np.vstack((self.param_trace, params))\n",
    "            if iteration % check_point == 0:\n",
    "                print(\"Iteration {} lower bound {}; gradient mag: {}\".format(iteration, objective_val, np.linalg.norm(gradient(params, iteration))))\n",
    "\n",
    "        ### train with random restarts\n",
    "        optimal_obj = 1e16\n",
    "        optimal_param = param_init\n",
    "\n",
    "        for i in range(random_restarts):\n",
    "            if optimizer == 'adam':\n",
    "                adam(gradient, param_init, step_size=step_size, num_iters=max_iteration, callback=call_back)\n",
    "            local_opt = np.min(self.objective_trace[1:])\n",
    "            \n",
    "            if local_opt < optimal_obj:\n",
    "                opt_index = np.argmin(self.objective_trace[1:])\n",
    "                opt_params = self.param_trace[1:][opt_index].reshape((1, -1))\n",
    "                self.opt_params = opt_params\n",
    "                encoder_weights, decoder_weights = self.unpack_weights(opt_params)\n",
    "                self.decoder.weights = decoder_weights\n",
    "                self.encoder.weights = encoder_weights\n",
    "                optimal_obj = local_opt\n",
    "\n",
    "            param_init = self.random.normal(0, 0.1, size=(1, self.decoder.D + self.encoder.D))\n",
    "\n",
    "        self.objective_trace = self.objective_trace[1:]\n",
    "        self.param_trace = self.param_trace[1:]"
   ]
  },
  {
   "cell_type": "code",
   "execution_count": 1,
   "metadata": {},
   "outputs": [
    {
     "ename": "NameError",
     "evalue": "name 'numpy' is not defined",
     "output_type": "error",
     "traceback": [
      "\u001b[0;31m---------------------------------------------------------------------------\u001b[0m",
      "\u001b[0;31mNameError\u001b[0m                                 Traceback (most recent call last)",
      "\u001b[0;32m<ipython-input-1-584a70c59741>\u001b[0m in \u001b[0;36m<module>\u001b[0;34m\u001b[0m\n\u001b[1;32m      3\u001b[0m \u001b[0mx_var\u001b[0m \u001b[0;34m=\u001b[0m \u001b[0;36m1e-2\u001b[0m\u001b[0;34m\u001b[0m\u001b[0;34m\u001b[0m\u001b[0m\n\u001b[1;32m      4\u001b[0m \u001b[0;34m\u001b[0m\u001b[0m\n\u001b[0;32m----> 5\u001b[0;31m \u001b[0mindices\u001b[0m \u001b[0;34m=\u001b[0m \u001b[0mnumpy\u001b[0m\u001b[0;34m.\u001b[0m\u001b[0mrandom\u001b[0m\u001b[0;34m.\u001b[0m\u001b[0mrandint\u001b[0m\u001b[0;34m(\u001b[0m\u001b[0;36m2\u001b[0m\u001b[0;34m,\u001b[0m \u001b[0msize\u001b[0m\u001b[0;34m=\u001b[0m\u001b[0;36m300\u001b[0m\u001b[0;34m)\u001b[0m\u001b[0;34m\u001b[0m\u001b[0;34m\u001b[0m\u001b[0m\n\u001b[0m\u001b[1;32m      6\u001b[0m samples = [\n\u001b[1;32m      7\u001b[0m     \u001b[0mnumpy\u001b[0m\u001b[0;34m.\u001b[0m\u001b[0mrandom\u001b[0m\u001b[0;34m.\u001b[0m\u001b[0mmultivariate_normal\u001b[0m\u001b[0;34m(\u001b[0m\u001b[0mc_means\u001b[0m\u001b[0;34m[\u001b[0m\u001b[0mi\u001b[0m\u001b[0;34m]\u001b[0m\u001b[0;34m,\u001b[0m \u001b[0mc_var\u001b[0m \u001b[0;34m*\u001b[0m \u001b[0mnp\u001b[0m\u001b[0;34m.\u001b[0m\u001b[0meye\u001b[0m\u001b[0;34m(\u001b[0m\u001b[0;36m2\u001b[0m\u001b[0;34m)\u001b[0m \u001b[0;34m+\u001b[0m \u001b[0;36m0.2\u001b[0m \u001b[0;34m*\u001b[0m \u001b[0mnp\u001b[0m\u001b[0;34m.\u001b[0m\u001b[0mones\u001b[0m\u001b[0;34m(\u001b[0m\u001b[0;34m(\u001b[0m\u001b[0;36m2\u001b[0m\u001b[0;34m,\u001b[0m \u001b[0;36m2\u001b[0m\u001b[0;34m)\u001b[0m\u001b[0;34m)\u001b[0m\u001b[0;34m)\u001b[0m \u001b[0;34m+\u001b[0m\u001b[0;34m\u001b[0m\u001b[0;34m\u001b[0m\u001b[0m\n",
      "\u001b[0;31mNameError\u001b[0m: name 'numpy' is not defined"
     ]
    }
   ],
   "source": [
    "c_means = [[-1.5, -1.5], [2.0, 2.0]]\n",
    "c_var = 0.30**2\n",
    "x_var = 1e-2\n",
    "\n",
    "indices = numpy.random.randint(2, size=300)\n",
    "samples = [\n",
    "    numpy.random.multivariate_normal(c_means[i], c_var * np.eye(2) + 0.2 * np.ones((2, 2))) + \n",
    "           numpy.random.multivariate_normal(np.zeros(2), x_var**0.5 * np.eye(2)) \n",
    "           for i in indices]\n",
    "\n",
    "x_train = np.array(samples)\n",
    "plt.scatter(x_train[:, 0], x_train[:, 1])\n",
    "plt.show()"
   ]
  },
  {
   "cell_type": "code",
   "execution_count": 2,
   "metadata": {},
   "outputs": [
    {
     "ename": "NameError",
     "evalue": "name 'VAE' is not defined",
     "output_type": "error",
     "traceback": [
      "\u001b[0;31m---------------------------------------------------------------------------\u001b[0m",
      "\u001b[0;31mNameError\u001b[0m                                 Traceback (most recent call last)",
      "\u001b[0;32m<ipython-input-2-ad9f54366f9a>\u001b[0m in \u001b[0;36m<module>\u001b[0;34m\u001b[0m\n\u001b[1;32m     43\u001b[0m                 'task': 'regression'}\n\u001b[1;32m     44\u001b[0m \u001b[0;34m\u001b[0m\u001b[0m\n\u001b[0;32m---> 45\u001b[0;31m \u001b[0mvae\u001b[0m \u001b[0;34m=\u001b[0m \u001b[0mVAE\u001b[0m\u001b[0;34m(\u001b[0m\u001b[0mdecoder_architecture\u001b[0m\u001b[0;34m,\u001b[0m \u001b[0mencoder_architecture\u001b[0m\u001b[0;34m,\u001b[0m \u001b[0mx_var\u001b[0m\u001b[0;34m)\u001b[0m\u001b[0;34m\u001b[0m\u001b[0;34m\u001b[0m\u001b[0m\n\u001b[0m",
      "\u001b[0;31mNameError\u001b[0m: name 'VAE' is not defined"
     ]
    }
   ],
   "source": [
    "#decoder architecture\n",
    "input_dim = 2\n",
    "output_dim = 2\n",
    "width = 50\n",
    "hidden_layers = 1\n",
    "activation_fn_type = 'relu'\n",
    "activation_fn = lambda x: np.maximum(np.zeros(x.shape), x)\n",
    "output_activation_type = 'linear'\n",
    "output_activation_fn = lambda x: x\n",
    "# activation_fn_type = 'linear'\n",
    "# activation_fn = lambda x: x\n",
    "decoder_architecture = {'width': [width] * hidden_layers,\n",
    "                'hidden_layers': hidden_layers,\n",
    "                'input_dim': input_dim,\n",
    "                'output_dim': output_dim,\n",
    "                'activation_fn_type': activation_fn_type,\n",
    "                'activation_fn': activation_fn,\n",
    "                'activation_fn_params': None,\n",
    "                'output_activation_type': output_activation_type,\n",
    "                'output_activation_fn': output_activation_fn,\n",
    "                'task': 'regression'}\n",
    "\n",
    "\n",
    "#encoder architecture\n",
    "input_dim = 2\n",
    "output_dim = 4\n",
    "width = 50\n",
    "hidden_layers = 1\n",
    "# activation_fn_type = 'relu'\n",
    "# activation_fn = lambda x: np.maximum(np.zeros(x.shape), x)\n",
    "\n",
    "\n",
    "\n",
    "encoder_architecture = {'width': [width] * hidden_layers,\n",
    "                'hidden_layers': hidden_layers,\n",
    "                'input_dim': input_dim,\n",
    "                'output_dim': output_dim,\n",
    "                'activation_fn_type': activation_fn_type,\n",
    "                'activation_fn': activation_fn,\n",
    "                'activation_fn_params': None,\n",
    "                'output_activation_type': output_activation_type,\n",
    "                'output_activation_fn': output_activation_fn,\n",
    "                'task': 'regression'}\n",
    "\n",
    "vae = VAE(decoder_architecture, encoder_architecture, x_var)"
   ]
  },
  {
   "cell_type": "code",
   "execution_count": 6,
   "metadata": {},
   "outputs": [
    {
     "name": "stdout",
     "output_type": "stream",
     "text": [
      "Iteration 0 lower bound 476.3336493401277; gradient mag: 816.4687974017422\n",
      "Iteration 100 lower bound 4.903862750015708; gradient mag: 5.832664970400754\n"
     ]
    },
    {
     "ename": "KeyboardInterrupt",
     "evalue": "",
     "output_type": "error",
     "traceback": [
      "\u001b[0;31m---------------------------------------------------------------------------\u001b[0m",
      "\u001b[0;31mKeyboardInterrupt\u001b[0m                         Traceback (most recent call last)",
      "\u001b[0;32m<ipython-input-6-7273481f4612>\u001b[0m in \u001b[0;36m<module>\u001b[0;34m\u001b[0m\n\u001b[1;32m      6\u001b[0m      }\n\u001b[1;32m      7\u001b[0m \u001b[0;34m\u001b[0m\u001b[0m\n\u001b[0;32m----> 8\u001b[0;31m \u001b[0mvae\u001b[0m\u001b[0;34m.\u001b[0m\u001b[0mfit\u001b[0m\u001b[0;34m(\u001b[0m\u001b[0mx_train\u001b[0m\u001b[0;34m.\u001b[0m\u001b[0mT\u001b[0m\u001b[0;34m,\u001b[0m \u001b[0mparams\u001b[0m\u001b[0;34m=\u001b[0m\u001b[0mparams\u001b[0m\u001b[0;34m,\u001b[0m \u001b[0mS\u001b[0m\u001b[0;34m=\u001b[0m\u001b[0;36m50\u001b[0m\u001b[0;34m)\u001b[0m\u001b[0;34m\u001b[0m\u001b[0;34m\u001b[0m\u001b[0m\n\u001b[0m",
      "\u001b[0;32m<ipython-input-3-5499f5767342>\u001b[0m in \u001b[0;36mfit\u001b[0;34m(self, x_train, S, params)\u001b[0m\n\u001b[1;32m    164\u001b[0m         \u001b[0;32mfor\u001b[0m \u001b[0mi\u001b[0m \u001b[0;32min\u001b[0m \u001b[0mrange\u001b[0m\u001b[0;34m(\u001b[0m\u001b[0mrandom_restarts\u001b[0m\u001b[0;34m)\u001b[0m\u001b[0;34m:\u001b[0m\u001b[0;34m\u001b[0m\u001b[0;34m\u001b[0m\u001b[0m\n\u001b[1;32m    165\u001b[0m             \u001b[0;32mif\u001b[0m \u001b[0moptimizer\u001b[0m \u001b[0;34m==\u001b[0m \u001b[0;34m'adam'\u001b[0m\u001b[0;34m:\u001b[0m\u001b[0;34m\u001b[0m\u001b[0;34m\u001b[0m\u001b[0m\n\u001b[0;32m--> 166\u001b[0;31m                 \u001b[0madam\u001b[0m\u001b[0;34m(\u001b[0m\u001b[0mgradient\u001b[0m\u001b[0;34m,\u001b[0m \u001b[0mparam_init\u001b[0m\u001b[0;34m,\u001b[0m \u001b[0mstep_size\u001b[0m\u001b[0;34m=\u001b[0m\u001b[0mstep_size\u001b[0m\u001b[0;34m,\u001b[0m \u001b[0mnum_iters\u001b[0m\u001b[0;34m=\u001b[0m\u001b[0mmax_iteration\u001b[0m\u001b[0;34m,\u001b[0m \u001b[0mcallback\u001b[0m\u001b[0;34m=\u001b[0m\u001b[0mcall_back\u001b[0m\u001b[0;34m)\u001b[0m\u001b[0;34m\u001b[0m\u001b[0;34m\u001b[0m\u001b[0m\n\u001b[0m\u001b[1;32m    167\u001b[0m             \u001b[0mlocal_opt\u001b[0m \u001b[0;34m=\u001b[0m \u001b[0mnp\u001b[0m\u001b[0;34m.\u001b[0m\u001b[0mmin\u001b[0m\u001b[0;34m(\u001b[0m\u001b[0mself\u001b[0m\u001b[0;34m.\u001b[0m\u001b[0mobjective_trace\u001b[0m\u001b[0;34m[\u001b[0m\u001b[0;36m1\u001b[0m\u001b[0;34m:\u001b[0m\u001b[0;34m]\u001b[0m\u001b[0;34m)\u001b[0m\u001b[0;34m\u001b[0m\u001b[0;34m\u001b[0m\u001b[0m\n\u001b[1;32m    168\u001b[0m \u001b[0;34m\u001b[0m\u001b[0m\n",
      "\u001b[0;32m~/miniconda3/envs/am207/lib/python3.8/site-packages/autograd/misc/optimizers.py\u001b[0m in \u001b[0;36m_optimize\u001b[0;34m(grad, x0, callback, *args, **kwargs)\u001b[0m\n\u001b[1;32m     26\u001b[0m         \u001b[0;32melse\u001b[0m\u001b[0;34m:\u001b[0m\u001b[0;34m\u001b[0m\u001b[0;34m\u001b[0m\u001b[0m\n\u001b[1;32m     27\u001b[0m             \u001b[0m_callback\u001b[0m \u001b[0;34m=\u001b[0m \u001b[0;32mNone\u001b[0m\u001b[0;34m\u001b[0m\u001b[0;34m\u001b[0m\u001b[0m\n\u001b[0;32m---> 28\u001b[0;31m         \u001b[0;32mreturn\u001b[0m \u001b[0munflatten\u001b[0m\u001b[0;34m(\u001b[0m\u001b[0moptimize\u001b[0m\u001b[0;34m(\u001b[0m\u001b[0m_grad\u001b[0m\u001b[0;34m,\u001b[0m \u001b[0m_x0\u001b[0m\u001b[0;34m,\u001b[0m \u001b[0m_callback\u001b[0m\u001b[0;34m,\u001b[0m \u001b[0;34m*\u001b[0m\u001b[0margs\u001b[0m\u001b[0;34m,\u001b[0m \u001b[0;34m**\u001b[0m\u001b[0mkwargs\u001b[0m\u001b[0;34m)\u001b[0m\u001b[0;34m)\u001b[0m\u001b[0;34m\u001b[0m\u001b[0;34m\u001b[0m\u001b[0m\n\u001b[0m\u001b[1;32m     29\u001b[0m \u001b[0;34m\u001b[0m\u001b[0m\n\u001b[1;32m     30\u001b[0m     \u001b[0;32mreturn\u001b[0m \u001b[0m_optimize\u001b[0m\u001b[0;34m\u001b[0m\u001b[0;34m\u001b[0m\u001b[0m\n",
      "\u001b[0;32m~/miniconda3/envs/am207/lib/python3.8/site-packages/autograd/misc/optimizers.py\u001b[0m in \u001b[0;36madam\u001b[0;34m(grad, x, callback, num_iters, step_size, b1, b2, eps)\u001b[0m\n\u001b[1;32m     63\u001b[0m     \u001b[0;32mfor\u001b[0m \u001b[0mi\u001b[0m \u001b[0;32min\u001b[0m \u001b[0mrange\u001b[0m\u001b[0;34m(\u001b[0m\u001b[0mnum_iters\u001b[0m\u001b[0;34m)\u001b[0m\u001b[0;34m:\u001b[0m\u001b[0;34m\u001b[0m\u001b[0;34m\u001b[0m\u001b[0m\n\u001b[1;32m     64\u001b[0m         \u001b[0mg\u001b[0m \u001b[0;34m=\u001b[0m \u001b[0mgrad\u001b[0m\u001b[0;34m(\u001b[0m\u001b[0mx\u001b[0m\u001b[0;34m,\u001b[0m \u001b[0mi\u001b[0m\u001b[0;34m)\u001b[0m\u001b[0;34m\u001b[0m\u001b[0;34m\u001b[0m\u001b[0m\n\u001b[0;32m---> 65\u001b[0;31m         \u001b[0;32mif\u001b[0m \u001b[0mcallback\u001b[0m\u001b[0;34m:\u001b[0m \u001b[0mcallback\u001b[0m\u001b[0;34m(\u001b[0m\u001b[0mx\u001b[0m\u001b[0;34m,\u001b[0m \u001b[0mi\u001b[0m\u001b[0;34m,\u001b[0m \u001b[0mg\u001b[0m\u001b[0;34m)\u001b[0m\u001b[0;34m\u001b[0m\u001b[0;34m\u001b[0m\u001b[0m\n\u001b[0m\u001b[1;32m     66\u001b[0m         \u001b[0mm\u001b[0m \u001b[0;34m=\u001b[0m \u001b[0;34m(\u001b[0m\u001b[0;36m1\u001b[0m \u001b[0;34m-\u001b[0m \u001b[0mb1\u001b[0m\u001b[0;34m)\u001b[0m \u001b[0;34m*\u001b[0m \u001b[0mg\u001b[0m      \u001b[0;34m+\u001b[0m \u001b[0mb1\u001b[0m \u001b[0;34m*\u001b[0m \u001b[0mm\u001b[0m  \u001b[0;31m# First  moment estimate.\u001b[0m\u001b[0;34m\u001b[0m\u001b[0;34m\u001b[0m\u001b[0m\n\u001b[1;32m     67\u001b[0m         \u001b[0mv\u001b[0m \u001b[0;34m=\u001b[0m \u001b[0;34m(\u001b[0m\u001b[0;36m1\u001b[0m \u001b[0;34m-\u001b[0m \u001b[0mb2\u001b[0m\u001b[0;34m)\u001b[0m \u001b[0;34m*\u001b[0m \u001b[0;34m(\u001b[0m\u001b[0mg\u001b[0m\u001b[0;34m**\u001b[0m\u001b[0;36m2\u001b[0m\u001b[0;34m)\u001b[0m \u001b[0;34m+\u001b[0m \u001b[0mb2\u001b[0m \u001b[0;34m*\u001b[0m \u001b[0mv\u001b[0m  \u001b[0;31m# Second moment estimate.\u001b[0m\u001b[0;34m\u001b[0m\u001b[0;34m\u001b[0m\u001b[0m\n",
      "\u001b[0;32m~/miniconda3/envs/am207/lib/python3.8/site-packages/autograd/misc/optimizers.py\u001b[0m in \u001b[0;36m<lambda>\u001b[0;34m(x, i, g)\u001b[0m\n\u001b[1;32m     23\u001b[0m         \u001b[0m_grad\u001b[0m \u001b[0;34m=\u001b[0m \u001b[0;32mlambda\u001b[0m \u001b[0mx\u001b[0m\u001b[0;34m,\u001b[0m \u001b[0mi\u001b[0m\u001b[0;34m:\u001b[0m \u001b[0mflatten\u001b[0m\u001b[0;34m(\u001b[0m\u001b[0mgrad\u001b[0m\u001b[0;34m(\u001b[0m\u001b[0munflatten\u001b[0m\u001b[0;34m(\u001b[0m\u001b[0mx\u001b[0m\u001b[0;34m)\u001b[0m\u001b[0;34m,\u001b[0m \u001b[0mi\u001b[0m\u001b[0;34m)\u001b[0m\u001b[0;34m)\u001b[0m\u001b[0;34m[\u001b[0m\u001b[0;36m0\u001b[0m\u001b[0;34m]\u001b[0m\u001b[0;34m\u001b[0m\u001b[0;34m\u001b[0m\u001b[0m\n\u001b[1;32m     24\u001b[0m         \u001b[0;32mif\u001b[0m \u001b[0mcallback\u001b[0m\u001b[0;34m:\u001b[0m\u001b[0;34m\u001b[0m\u001b[0;34m\u001b[0m\u001b[0m\n\u001b[0;32m---> 25\u001b[0;31m             \u001b[0m_callback\u001b[0m \u001b[0;34m=\u001b[0m \u001b[0;32mlambda\u001b[0m \u001b[0mx\u001b[0m\u001b[0;34m,\u001b[0m \u001b[0mi\u001b[0m\u001b[0;34m,\u001b[0m \u001b[0mg\u001b[0m\u001b[0;34m:\u001b[0m \u001b[0mcallback\u001b[0m\u001b[0;34m(\u001b[0m\u001b[0munflatten\u001b[0m\u001b[0;34m(\u001b[0m\u001b[0mx\u001b[0m\u001b[0;34m)\u001b[0m\u001b[0;34m,\u001b[0m \u001b[0mi\u001b[0m\u001b[0;34m,\u001b[0m \u001b[0munflatten\u001b[0m\u001b[0;34m(\u001b[0m\u001b[0mg\u001b[0m\u001b[0;34m)\u001b[0m\u001b[0;34m)\u001b[0m\u001b[0;34m\u001b[0m\u001b[0;34m\u001b[0m\u001b[0m\n\u001b[0m\u001b[1;32m     26\u001b[0m         \u001b[0;32melse\u001b[0m\u001b[0;34m:\u001b[0m\u001b[0;34m\u001b[0m\u001b[0;34m\u001b[0m\u001b[0m\n\u001b[1;32m     27\u001b[0m             \u001b[0m_callback\u001b[0m \u001b[0;34m=\u001b[0m \u001b[0;32mNone\u001b[0m\u001b[0;34m\u001b[0m\u001b[0;34m\u001b[0m\u001b[0m\n",
      "\u001b[0;32m<ipython-input-3-5499f5767342>\u001b[0m in \u001b[0;36mcall_back\u001b[0;34m(params, iteration, g)\u001b[0m\n\u001b[1;32m    152\u001b[0m         \u001b[0;32mdef\u001b[0m \u001b[0mcall_back\u001b[0m\u001b[0;34m(\u001b[0m\u001b[0mparams\u001b[0m\u001b[0;34m,\u001b[0m \u001b[0miteration\u001b[0m\u001b[0;34m,\u001b[0m \u001b[0mg\u001b[0m\u001b[0;34m)\u001b[0m\u001b[0;34m:\u001b[0m\u001b[0;34m\u001b[0m\u001b[0;34m\u001b[0m\u001b[0m\n\u001b[1;32m    153\u001b[0m             \u001b[0;34m''' Actions per optimization step '''\u001b[0m\u001b[0;34m\u001b[0m\u001b[0;34m\u001b[0m\u001b[0m\n\u001b[0;32m--> 154\u001b[0;31m             \u001b[0mobjective_val\u001b[0m \u001b[0;34m=\u001b[0m \u001b[0mobjective\u001b[0m\u001b[0;34m(\u001b[0m\u001b[0mparams\u001b[0m\u001b[0;34m,\u001b[0m \u001b[0miteration\u001b[0m\u001b[0;34m)\u001b[0m\u001b[0;34m\u001b[0m\u001b[0;34m\u001b[0m\u001b[0m\n\u001b[0m\u001b[1;32m    155\u001b[0m             \u001b[0mself\u001b[0m\u001b[0;34m.\u001b[0m\u001b[0mobjective_trace\u001b[0m \u001b[0;34m=\u001b[0m \u001b[0mnp\u001b[0m\u001b[0;34m.\u001b[0m\u001b[0mvstack\u001b[0m\u001b[0;34m(\u001b[0m\u001b[0;34m(\u001b[0m\u001b[0mself\u001b[0m\u001b[0;34m.\u001b[0m\u001b[0mobjective_trace\u001b[0m\u001b[0;34m,\u001b[0m \u001b[0mobjective_val\u001b[0m\u001b[0;34m)\u001b[0m\u001b[0;34m)\u001b[0m\u001b[0;34m\u001b[0m\u001b[0;34m\u001b[0m\u001b[0m\n\u001b[1;32m    156\u001b[0m             \u001b[0mself\u001b[0m\u001b[0;34m.\u001b[0m\u001b[0mparam_trace\u001b[0m \u001b[0;34m=\u001b[0m \u001b[0mnp\u001b[0m\u001b[0;34m.\u001b[0m\u001b[0mvstack\u001b[0m\u001b[0;34m(\u001b[0m\u001b[0;34m(\u001b[0m\u001b[0mself\u001b[0m\u001b[0;34m.\u001b[0m\u001b[0mparam_trace\u001b[0m\u001b[0;34m,\u001b[0m \u001b[0mparams\u001b[0m\u001b[0;34m)\u001b[0m\u001b[0;34m)\u001b[0m\u001b[0;34m\u001b[0m\u001b[0;34m\u001b[0m\u001b[0m\n",
      "\u001b[0;32m<ipython-input-3-5499f5767342>\u001b[0m in \u001b[0;36mvariational_objective\u001b[0;34m(params, t)\u001b[0m\n\u001b[1;32m     77\u001b[0m         \u001b[0;32mdef\u001b[0m \u001b[0mvariational_objective\u001b[0m\u001b[0;34m(\u001b[0m\u001b[0mparams\u001b[0m\u001b[0;34m,\u001b[0m \u001b[0mt\u001b[0m\u001b[0;34m)\u001b[0m\u001b[0;34m:\u001b[0m\u001b[0;34m\u001b[0m\u001b[0;34m\u001b[0m\u001b[0m\n\u001b[1;32m     78\u001b[0m             \u001b[0;34m'''definition of the ELBO'''\u001b[0m\u001b[0;34m\u001b[0m\u001b[0;34m\u001b[0m\u001b[0m\n\u001b[0;32m---> 79\u001b[0;31m             \u001b[0mencoder_weights\u001b[0m\u001b[0;34m,\u001b[0m \u001b[0mdecoder_weights\u001b[0m \u001b[0;34m=\u001b[0m \u001b[0mself\u001b[0m\u001b[0;34m.\u001b[0m\u001b[0munpack_weights\u001b[0m\u001b[0;34m(\u001b[0m\u001b[0mparams\u001b[0m\u001b[0;34m)\u001b[0m\u001b[0;34m\u001b[0m\u001b[0;34m\u001b[0m\u001b[0m\n\u001b[0m\u001b[1;32m     80\u001b[0m \u001b[0;34m\u001b[0m\u001b[0m\n\u001b[1;32m     81\u001b[0m             \u001b[0;31m#infer z's\u001b[0m\u001b[0;34m\u001b[0m\u001b[0;34m\u001b[0m\u001b[0;34m\u001b[0m\u001b[0m\n",
      "\u001b[0;32m<ipython-input-3-5499f5767342>\u001b[0m in \u001b[0;36munpack_weights\u001b[0;34m(self, params)\u001b[0m\n\u001b[1;32m     54\u001b[0m     \u001b[0;32mdef\u001b[0m \u001b[0munpack_weights\u001b[0m\u001b[0;34m(\u001b[0m\u001b[0mself\u001b[0m\u001b[0;34m,\u001b[0m \u001b[0mparams\u001b[0m\u001b[0;34m)\u001b[0m\u001b[0;34m:\u001b[0m\u001b[0;34m\u001b[0m\u001b[0;34m\u001b[0m\u001b[0m\n\u001b[1;32m     55\u001b[0m         \u001b[0;34m'''unpack the weights for the encoder and decoder'''\u001b[0m\u001b[0;34m\u001b[0m\u001b[0;34m\u001b[0m\u001b[0m\n\u001b[0;32m---> 56\u001b[0;31m         \u001b[0;32massert\u001b[0m \u001b[0mlen\u001b[0m\u001b[0;34m(\u001b[0m\u001b[0mparams\u001b[0m\u001b[0;34m.\u001b[0m\u001b[0mshape\u001b[0m\u001b[0;34m)\u001b[0m \u001b[0;34m==\u001b[0m \u001b[0;36m2\u001b[0m\u001b[0;34m\u001b[0m\u001b[0;34m\u001b[0m\u001b[0m\n\u001b[0m\u001b[1;32m     57\u001b[0m         \u001b[0;32massert\u001b[0m \u001b[0mparams\u001b[0m\u001b[0;34m.\u001b[0m\u001b[0mshape\u001b[0m\u001b[0;34m[\u001b[0m\u001b[0;36m1\u001b[0m\u001b[0;34m]\u001b[0m \u001b[0;34m==\u001b[0m \u001b[0mself\u001b[0m\u001b[0;34m.\u001b[0m\u001b[0mencoder\u001b[0m\u001b[0;34m.\u001b[0m\u001b[0mD\u001b[0m \u001b[0;34m+\u001b[0m \u001b[0mself\u001b[0m\u001b[0;34m.\u001b[0m\u001b[0mdecoder\u001b[0m\u001b[0;34m.\u001b[0m\u001b[0mD\u001b[0m\u001b[0;34m\u001b[0m\u001b[0;34m\u001b[0m\u001b[0m\n\u001b[1;32m     58\u001b[0m \u001b[0;34m\u001b[0m\u001b[0m\n",
      "\u001b[0;31mKeyboardInterrupt\u001b[0m: "
     ]
    }
   ],
   "source": [
    "# x_train, _ = generate_data(N=200, var=x_var) \n",
    "\n",
    "params = {'step_size':1e-2,\n",
    "      'max_iteration':10000,\n",
    "      'random_restarts':1,\n",
    "     }\n",
    "\n",
    "vae.fit(x_train.T, params=params, S=50)"
   ]
  },
  {
   "cell_type": "code",
   "execution_count": 7,
   "metadata": {},
   "outputs": [
    {
     "data": {
      "image/png": "[encoded data removed]",
      "text/plain": [
       "<Figure size 720x720 with 1 Axes>"
      ]
     },
     "metadata": {
      "needs_background": "light"
     },
     "output_type": "display_data"
    }
   ],
   "source": [
    "x_hat = vae.generate(N=300)\n",
    "x_hat = x_hat + np.random.normal(0, x_var**0.5, size=x_hat.shape)\n",
    "\n",
    "fig, ax = plt.subplots(1, 1, figsize=(10, 10))\n",
    "ax.scatter(x_train.T[0], x_train.T[1], color='black')\n",
    "ax.scatter(x_hat[0], x_hat[1], color='blue', alpha=0.5)\n",
    "\n",
    "plt.show()"
   ]
  },
  {
   "cell_type": "code",
   "execution_count": 8,
   "metadata": {},
   "outputs": [],
   "source": [
    "width = 100\n",
    "hidden_layers = 3\n",
    "input_dim = 2\n",
    "output_dim = 1\n",
    "activation_fn_type = 'relu'\n",
    "activation_fn = lambda x: np.maximum(np.zeros(x.shape), x)\n",
    "output_activation_type = 'logistic'\n",
    "output_activation_fn = expit\n",
    "\n",
    "classifier_architecture = {\n",
    "    'width': [width] * hidden_layers,\n",
    "    'hidden_layers': hidden_layers,\n",
    "    'input_dim': input_dim,\n",
    "    'output_dim': output_dim,\n",
    "    'activation_fn_type': activation_fn_type,\n",
    "    'activation_fn': activation_fn,\n",
    "    'activation_fn_params': None,\n",
    "    'output_activation_type': output_activation_type,\n",
    "    'output_activation_fn': output_activation_fn,\n",
    "    'task': 'classification'}\n",
    "\n",
    "classifier = Feedforward(classifier_architecture)"
   ]
  },
  {
   "cell_type": "code",
   "execution_count": 27,
   "metadata": {},
   "outputs": [
    {
     "name": "stdout",
     "output_type": "stream",
     "text": [
      "Collecting pip\n",
      "\u001b[?25l  Downloading https://files.pythonhosted.org/packages/ab/11/2dc62c5263d9eb322f2f028f7b56cd9d096bb8988fcf82d65fa2e4057afe/pip-20.3.1-py2.py3-none-any.whl (1.5MB)\n",
      "\u001b[K     |████████████████████████████████| 1.5MB 2.2MB/s eta 0:00:01\n",
      "\u001b[?25hInstalling collected packages: pip\n",
      "  Found existing installation: pip 19.3.1\n",
      "    Uninstalling pip-19.3.1:\n",
      "      Successfully uninstalled pip-19.3.1\n",
      "Successfully installed pip-20.3.1\n",
      "Collecting jax\n",
      "  Downloading jax-0.2.7.tar.gz (520 kB)\n",
      "\u001b[K     |████████████████████████████████| 520 kB 633 kB/s eta 0:00:01\n",
      "\u001b[?25hCollecting jaxlib\n",
      "  Downloading jaxlib-0.1.57-cp37-none-manylinux2010_x86_64.whl (33.3 MB)\n",
      "\u001b[K     |████████████████████████████████| 33.3 MB 1.5 MB/s eta 0:00:01    |▊                               | 737 kB 2.3 MB/s eta 0:00:15     |▉                               | 860 kB 2.3 MB/s eta 0:00:15     |█▊                              | 1.8 MB 2.3 MB/s eta 0:00:14     |██                              | 2.1 MB 2.3 MB/s eta 0:00:14     |██▋                             | 2.7 MB 2.2 MB/s eta 0:00:14     |███▍                            | 3.5 MB 2.2 MB/s eta 0:00:14     |███▌                            | 3.7 MB 2.2 MB/s eta 0:00:14     |████▏                           | 4.4 MB 1.8 MB/s eta 0:00:16     |████▎                           | 4.4 MB 1.8 MB/s eta 0:00:16     |█████▏                          | 5.4 MB 1.8 MB/s eta 0:00:16     |█████▋                          | 5.8 MB 1.8 MB/s eta 0:00:15     |██████▋                         | 6.9 MB 1.2 MB/s eta 0:00:22     |██████▊                         | 7.0 MB 1.2 MB/s eta 0:00:22     |█████████████▍                  | 13.9 MB 2.0 MB/s eta 0:00:10     |███████████████▏                | 15.8 MB 2.2 MB/s eta 0:00:08     |████████████████▊               | 17.4 MB 2.2 MB/s eta 0:00:08     |█████████████████████████████   | 30.3 MB 1.8 MB/s eta 0:00:02\n",
      "\u001b[?25hCollecting absl-py\n",
      "  Downloading absl_py-0.11.0-py3-none-any.whl (127 kB)\n",
      "\u001b[K     |████████████████████████████████| 127 kB 1.8 MB/s eta 0:00:01\n",
      "\u001b[?25hRequirement already satisfied: six in /home/justindcclark/miniconda3/lib/python3.7/site-packages (from absl-py->jax) (1.12.0)\n",
      "Collecting flatbuffers\n",
      "  Downloading flatbuffers-1.12-py2.py3-none-any.whl (15 kB)\n",
      "Collecting numpy>=1.12\n",
      "  Downloading numpy-1.19.4-cp37-cp37m-manylinux2010_x86_64.whl (14.5 MB)\n",
      "\u001b[K     |████████████████████████████████| 14.5 MB 172 kB/s eta 0:00:01   |                                | 30 kB 3.1 MB/s eta 0:00:05     |███▎                            | 1.5 MB 1.8 MB/s eta 0:00:08     |█████████▊                      | 4.4 MB 1.1 MB/s eta 0:00:10\n",
      "\u001b[?25hCollecting opt_einsum\n",
      "  Downloading opt_einsum-3.3.0-py3-none-any.whl (65 kB)\n",
      "\u001b[K     |████████████████████████████████| 65 kB 888 kB/s eta 0:00:01\n",
      "\u001b[?25hCollecting scipy\n",
      "  Downloading scipy-1.5.4-cp37-cp37m-manylinux1_x86_64.whl (25.9 MB)\n",
      "\u001b[K     |████████████████████████████████| 25.9 MB 1.1 MB/s eta 0:00:01    |█████                           | 4.0 MB 2.7 MB/s eta 0:00:09     |███████████████████████████▎    | 22.1 MB 2.3 MB/s eta 0:00:02\n",
      "\u001b[?25hBuilding wheels for collected packages: jax\n",
      "  Building wheel for jax (setup.py) ... \u001b[?25ldone\n",
      "\u001b[?25h  Created wheel for jax: filename=jax-0.2.7-py3-none-any.whl size=606843 sha256=4ce96a4a6b7de81315871dba3b19661846f291eafcd9fc389e7270ccd5e6d6ab\n",
      "  Stored in directory: /home/justindcclark/.cache/pip/wheels/97/50/53/3c741874499adfb340bdb444dee5878c432673318c2df1dc86\n",
      "Successfully built jax\n",
      "Installing collected packages: numpy, scipy, opt-einsum, flatbuffers, absl-py, jaxlib, jax\n",
      "Successfully installed absl-py-0.11.0 flatbuffers-1.12 jax-0.2.7 jaxlib-0.1.57 numpy-1.19.4 opt-einsum-3.3.0 scipy-1.5.4\n"
     ]
    }
   ],
   "source": [
    "!pip install --upgrade pip\n",
    "!pip install --upgrade jax jaxlib"
   ]
  },
  {
   "cell_type": "code",
   "execution_count": null,
   "metadata": {
    "scrolled": true
   },
   "outputs": [
    {
     "name": "stderr",
     "output_type": "stream",
     "text": [
      "[autoreload of nn_models failed: Traceback (most recent call last):\n",
      "  File \"/home/justindcclark/miniconda3/envs/am207/lib/python3.8/site-packages/IPython/extensions/autoreload.py\", line 245, in check\n",
      "    superreload(m, reload, self.old_objects)\n",
      "  File \"/home/justindcclark/miniconda3/envs/am207/lib/python3.8/site-packages/IPython/extensions/autoreload.py\", line 394, in superreload\n",
      "    module = reload(module)\n",
      "  File \"/home/justindcclark/miniconda3/envs/am207/lib/python3.8/imp.py\", line 314, in reload\n",
      "    return importlib.reload(module)\n",
      "  File \"/home/justindcclark/miniconda3/envs/am207/lib/python3.8/importlib/__init__.py\", line 169, in reload\n",
      "    _bootstrap._exec(spec, module)\n",
      "  File \"<frozen importlib._bootstrap>\", line 604, in _exec\n",
      "  File \"<frozen importlib._bootstrap_external>\", line 783, in exec_module\n",
      "  File \"<frozen importlib._bootstrap>\", line 219, in _call_with_frames_removed\n",
      "  File \"/home/justindcclark/am207/project/nn_models.py\", line 1, in <module>\n",
      "    import jax.numpy as np\n",
      "ModuleNotFoundError: No module named 'jax'\n",
      "]\n"
     ]
    },
    {
     "name": "stdout",
     "output_type": "stream",
     "text": [
      "[[0. 0. 0. ... 0. 0. 0.]]\n",
      "Iteration 0 lower bound 5154.2424; gradient mag: 0.0000\n"
     ]
    }
   ],
   "source": [
    "params = {'step_size':1e-2,\n",
    "      'max_iteration':5000,\n",
    "      'random_restarts':1,\n",
    "     }\n",
    "\n",
    "X = np.array(samples)\n",
    "X_mean = X.mean()\n",
    "X_std = X.std()\n",
    "X_train = (X - X_mean) / X_std\n",
    "classifier.fit(X_train.T, indices.reshape(1,-1), params)"
   ]
  },
  {
   "cell_type": "code",
   "execution_count": null,
   "metadata": {},
   "outputs": [],
   "source": []
  }
 ],
 "metadata": {
  "kernelspec": {
   "display_name": "Python 3",
   "language": "python",
   "name": "python3"
  },
  "language_info": {
   "codemirror_mode": {
    "name": "ipython",
    "version": 3
   },
   "file_extension": ".py",
   "mimetype": "text/x-python",
   "name": "python",
   "nbconvert_exporter": "python",
   "pygments_lexer": "ipython3",
   "version": "3.8.5"
  }
 },
 "nbformat": 4,
 "nbformat_minor": 4
}
