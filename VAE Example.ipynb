{
 "cells": [
  {
   "cell_type": "markdown",
   "metadata": {},
   "source": [
    "TODO:\n",
    "\n",
    "* Change to JAX `random`"
   ]
  },
  {
   "cell_type": "code",
   "execution_count": 1,
   "metadata": {},
   "outputs": [],
   "source": [
    "%load_ext autoreload\n",
    "%autoreload 2"
   ]
  },
  {
   "cell_type": "code",
   "execution_count": 17,
   "metadata": {},
   "outputs": [],
   "source": [
    "from scipy.special import logsumexp\n",
    "import jax.numpy as np\n",
    "import jax.scipy as sp\n",
    "from jax import grad, jit, random\n",
    "import jax\n",
    "from jax.experimental.optimizers import adam\n",
    "import jax.scipy.stats.norm as norm\n",
    "from jax.scipy.stats import multivariate_normal\n",
    "from jax.scipy.special import expit\n",
    "from jax.nn import relu, sigmoid\n",
    "import numpy\n",
    "import math\n",
    "import pdb\n",
    "from nn_models import Feedforward\n",
    "import matplotlib.pyplot as plt\n",
    "from mpl_toolkits.mplot3d import Axes3D\n",
    "%matplotlib inline\n",
    "import sys"
   ]
  },
  {
   "cell_type": "code",
   "execution_count": 3,
   "metadata": {},
   "outputs": [],
   "source": [
    "class VAE:\n",
    "    def __init__(self, decoder_architecture, encoder_architecture, x_var, random=None, decoder_weights=None, encoder_weights=None):\n",
    "        '''constructor'''\n",
    "        self.x_dim = decoder_architecture['output_dim']\n",
    "        self.z_dim = decoder_architecture['input_dim']\n",
    "\n",
    "        self.x_var = x_var\n",
    "\n",
    "        assert encoder_architecture['input_dim'] == self.x_dim\n",
    "        assert encoder_architecture['output_dim'] == self.z_dim * 2\n",
    "\n",
    "        self.decoder = Feedforward(decoder_architecture, random=random, weights=decoder_weights)\n",
    "        self.encoder = Feedforward(encoder_architecture, random=random, weights=encoder_weights)\n",
    "\n",
    "        self.objective_trace = np.empty((1, 1))\n",
    "        self.param_trace = np.empty((1, self.decoder.D + self.encoder.D))\n",
    "        self.S = 10\n",
    "\n",
    "        if random is not None:\n",
    "            self.random = random\n",
    "        else:\n",
    "            self.random = numpy.random.RandomState(0)\n",
    "            \n",
    "    def generate(self, weights=None, N=100):\n",
    "        '''use the generative model to generate x given zs sampled from the prior'''\n",
    "        z_samples = self.random.normal(0, 1, size=(self.z_dim, N))\n",
    "\n",
    "        if weights is None:\n",
    "            x_samples = self.decoder.forward(self.decoder.weights, z_samples)\n",
    "        else:\n",
    "            x_samples = self.decoder.forward(weights, z_samples)\n",
    "            \n",
    "        return x_samples[0]\n",
    "\n",
    "    def infer(self, x, weights=None):\n",
    "        '''use the inference model to infer parameters of q(z|x)'''\n",
    "        if weights is None:\n",
    "            z = self.encoder.forward(self.encoder.weights, x)\n",
    "        else:\n",
    "            z = self.encoder.forward(weights, x)\n",
    "            \n",
    "        return z[0]\n",
    "    \n",
    "    def unpack_params(self, z_params):\n",
    "        '''unpack variational parameters for q(z|x)'''\n",
    "        assert len(z_params.shape) == 2\n",
    "        assert z_params.shape[0] == 2 * self.z_dim\n",
    "\n",
    "        mean, parametrized_var = z_params[:self.z_dim], z_params[self.z_dim:]\n",
    "        std = np.exp(parametrized_var)\n",
    "\n",
    "        return mean, std\n",
    "    \n",
    "    def unpack_weights(self, params):\n",
    "        '''unpack the weights for the encoder and decoder'''\n",
    "        assert len(params.shape) == 2\n",
    "        assert params.shape[1] == self.encoder.D + self.decoder.D\n",
    "        \n",
    "        decoder_weights = params[:, :self.decoder.D].reshape((1, -1))\n",
    "        encoder_weights = params[:, self.decoder.D:].reshape((1, -1))\n",
    "        \n",
    "        return encoder_weights, decoder_weights\n",
    "    \n",
    "    def make_objective(self, x_train, S):\n",
    "        '''make variational objective function and gradient of the variational objective'''\n",
    "        assert len(x_train.shape) == 2\n",
    "        assert x_train.shape[0] == self.x_dim\n",
    "        \n",
    "\n",
    "        if S is not None:\n",
    "            self.S = S\n",
    "\n",
    "        N = x_train.shape[1]\n",
    "        x_dummy = np.zeros((self.S, self.x_dim, N))\n",
    "\n",
    "           \n",
    "        def variational_objective(params):\n",
    "            '''definition of the ELBO'''\n",
    "            encoder_weights, decoder_weights = self.unpack_weights(params)\n",
    "\n",
    "            #infer z's\n",
    "            z_params = self.encoder.forward(encoder_weights, x_train)[0]\n",
    "            \n",
    "            #unpack var parameters\n",
    "            mean, std = self.unpack_params(z_params)\n",
    "            assert std.shape == (self.z_dim, N)\n",
    "            assert mean.shape == (self.z_dim, N)\n",
    "            \n",
    "            #sample z's\n",
    "            z_samples = numpy.random.normal(0, 1, size=(self.S, self.z_dim, N)) * std + mean\n",
    "            assert z_samples.shape == (self.S, self.z_dim, N)\n",
    "            \n",
    "            #predict x's\n",
    "            x = self.decoder.forward(decoder_weights, z_samples)\n",
    "            assert x.shape == (self.S, self.x_dim, N)\n",
    "            \n",
    "            #evaluate log-likelihood\n",
    "            log_likelihood = np.sum(norm.logpdf(x_train, x, self.x_var ** 0.5), axis=-2)\n",
    "            assert log_likelihood.shape == (self.S, N)\n",
    "                        \n",
    "            #evaluate sampled z's under prior\n",
    "            log_pz = np.sum(norm.logpdf(z_samples, 0.0, 1.0), axis=-2)\n",
    "            assert log_pz.shape == (self.S, N)\n",
    "            \n",
    "            #evaluate sampled z's under variational distribution\n",
    "            log_qz_given_x = np.sum(norm.logpdf(z_samples, mean, std), axis=-2)\n",
    "            assert log_qz_given_x.shape == (self.S, N)\n",
    "            \n",
    "            #compute the elbo\n",
    "            elbo = np.mean(log_likelihood - log_qz_given_x + log_pz)\n",
    "            \n",
    "            #return the negative elbo to be minimized\n",
    "            return -elbo\n",
    "            \n",
    "            \n",
    "        return jit(variational_objective), grad(variational_objective)\n",
    "    \n",
    "                          \n",
    "    def fit(self, x_train, S=None, params=None):\n",
    "        '''minimize -ELBO'''\n",
    "        assert x_train.shape[0] == self.x_dim\n",
    "\n",
    "        ### make objective function for training\n",
    "        objective, gradient = self.make_objective(x_train, S)\n",
    "\n",
    "        ### set up optimization\n",
    "        step_size = 0.01\n",
    "        max_iteration = 5000\n",
    "        check_point = 100\n",
    "        param_init = self.random.normal(0, 0.3, size=(1, self.decoder.D + self.encoder.D))\n",
    "        mass = None\n",
    "        optimizer = 'adam'\n",
    "        random_restarts = 1\n",
    "\n",
    "        if 'step_size' in params.keys():\n",
    "            step_size = params['step_size']\n",
    "        if 'max_iteration' in params.keys():\n",
    "            max_iteration = params['max_iteration']\n",
    "        if 'check_point' in params.keys():\n",
    "            check_point = params['check_point']\n",
    "        if 'init' in params.keys():\n",
    "            param_init = params['init']\n",
    "        if 'call_back' in params.keys():\n",
    "            call_back = params['call_back']\n",
    "        if 'mass' in params.keys():\n",
    "            mass = params['mass']\n",
    "        if 'optimizer' in params.keys():\n",
    "            optimizer = params['optimizer']\n",
    "        if 'random_restarts' in params.keys():\n",
    "            random_restarts = params['random_restarts']\n",
    "\n",
    "        def call_back(params, iteration, g):\n",
    "            ''' Actions per optimization step '''\n",
    "            objective_val = objective(params, iteration)\n",
    "            self.objective_trace = np.vstack((self.objective_trace, objective_val))\n",
    "            self.param_trace = np.vstack((self.param_trace, params))\n",
    "            if iteration % check_point == 0:\n",
    "                print(\"Iteration {} lower bound {}; gradient mag: {}\".format(iteration, objective_val, np.linalg.norm(gradient(params, iteration))))\n",
    "\n",
    "        ### train with random restarts\n",
    "        optimal_obj = 1e16\n",
    "        optimal_param = param_init\n",
    "\n",
    "        for i in range(random_restarts):\n",
    "            if optimizer == 'adam':\n",
    "                opt_init, opt_update, get_params = adam(step_size=step_size)\n",
    "                opt_state = opt_init(param_init)\n",
    "                \n",
    "                def step(iteration, opt_state):\n",
    "                    params = get_params(opt_state)\n",
    "                    objective_val, grads = jax.value_and_grad(objective)(params)\n",
    "                    self.objective_trace = np.vstack((self.objective_trace, objective_val))\n",
    "                    self.param_trace = np.vstack((self.param_trace, params))\n",
    "                    opt_state = opt_update(iteration, grads, opt_state)\n",
    "                    if iteration % check_point == 0:\n",
    "                        print(f\"Iteration {iteration} lower bound {objective_val:.4f}; gradient mag: {np.linalg.norm(grads):.4f}\")\n",
    "                    return objective_val, opt_state\n",
    "\n",
    "                for i in range(max_iteration):\n",
    "                    objective_val, opt_state = step(i, opt_state)\n",
    "                \n",
    "                #adam(gradient, param_init, step_size=step_size, num_iters=max_iteration, callback=call_back)\n",
    "            local_opt = np.min(self.objective_trace[1:])\n",
    "            \n",
    "            if local_opt < optimal_obj:\n",
    "                opt_index = np.argmin(self.objective_trace[1:])\n",
    "                opt_params = self.param_trace[1:][opt_index].reshape((1, -1))\n",
    "                self.opt_params = opt_params\n",
    "                encoder_weights, decoder_weights = self.unpack_weights(opt_params)\n",
    "                self.decoder.weights = decoder_weights\n",
    "                self.encoder.weights = encoder_weights\n",
    "                optimal_obj = local_opt\n",
    "\n",
    "            param_init = self.random.normal(0, 0.1, size=(1, self.decoder.D + self.encoder.D))\n",
    "\n",
    "        self.objective_trace = self.objective_trace[1:]\n",
    "        self.param_trace = self.param_trace[1:]"
   ]
  },
  {
   "cell_type": "code",
   "execution_count": 4,
   "metadata": {},
   "outputs": [
    {
     "data": {
      "image/png": "[encoded data removed]",
      "text/plain": [
       "<Figure size 432x288 with 1 Axes>"
      ]
     },
     "metadata": {
      "needs_background": "light"
     },
     "output_type": "display_data"
    }
   ],
   "source": [
    "c_means = [[-1.5, -1.5], [2.0, 2.0]]\n",
    "c_var = 0.30**2\n",
    "x_var = 1e-2\n",
    "\n",
    "indices = numpy.random.randint(2, size=300)\n",
    "samples = [\n",
    "    numpy.random.multivariate_normal(c_means[i], c_var * np.eye(2) + 0.2 * np.ones((2, 2))) + \n",
    "           numpy.random.multivariate_normal(np.zeros(2), x_var**0.5 * np.eye(2)) \n",
    "           for i in indices]\n",
    "\n",
    "x_train = np.array(samples)\n",
    "plt.scatter(x_train[:, 0], x_train[:, 1])\n",
    "plt.show()"
   ]
  },
  {
   "cell_type": "code",
   "execution_count": 5,
   "metadata": {},
   "outputs": [],
   "source": [
    "#decoder architecture\n",
    "input_dim = 2\n",
    "output_dim = 2\n",
    "width = 50\n",
    "hidden_layers = 1\n",
    "activation_fn_type = 'relu'\n",
    "activation_fn = lambda x: np.maximum(np.zeros(x.shape), x)\n",
    "output_activation_type = 'linear'\n",
    "output_activation_fn = lambda x: x\n",
    "# activation_fn_type = 'linear'\n",
    "# activation_fn = lambda x: x\n",
    "decoder_architecture = {'width': [width] * hidden_layers,\n",
    "                'hidden_layers': hidden_layers,\n",
    "                'input_dim': input_dim,\n",
    "                'output_dim': output_dim,\n",
    "                'activation_fn_type': activation_fn_type,\n",
    "                'activation_fn': activation_fn,\n",
    "                'activation_fn_params': None,\n",
    "                'output_activation_type': output_activation_type,\n",
    "                'output_activation_fn': output_activation_fn,\n",
    "                'task': 'regression'}\n",
    "\n",
    "\n",
    "#encoder architecture\n",
    "input_dim = 2\n",
    "output_dim = 4\n",
    "width = 50\n",
    "hidden_layers = 1\n",
    "# activation_fn_type = 'relu'\n",
    "# activation_fn = lambda x: np.maximum(np.zeros(x.shape), x)\n",
    "\n",
    "\n",
    "\n",
    "encoder_architecture = {'width': [width] * hidden_layers,\n",
    "                'hidden_layers': hidden_layers,\n",
    "                'input_dim': input_dim,\n",
    "                'output_dim': output_dim,\n",
    "                'activation_fn_type': activation_fn_type,\n",
    "                'activation_fn': activation_fn,\n",
    "                'activation_fn_params': None,\n",
    "                'output_activation_type': output_activation_type,\n",
    "                'output_activation_fn': output_activation_fn,\n",
    "                'task': 'regression'}\n",
    "\n",
    "vae = VAE(decoder_architecture, encoder_architecture, x_var)"
   ]
  },
  {
   "cell_type": "code",
   "execution_count": 6,
   "metadata": {},
   "outputs": [
    {
     "name": "stdout",
     "output_type": "stream",
     "text": [
      "Iteration 0 lower bound 506.5571; gradient mag: 924.7281\n",
      "Iteration 100 lower bound 4.8247; gradient mag: 5.7194\n",
      "Iteration 200 lower bound 4.0847; gradient mag: 1.5753\n",
      "Iteration 300 lower bound 3.7803; gradient mag: 0.9955\n",
      "Iteration 400 lower bound 3.6090; gradient mag: 0.7173\n",
      "Iteration 500 lower bound 3.4928; gradient mag: 0.5815\n",
      "Iteration 600 lower bound 3.3932; gradient mag: 0.5659\n",
      "Iteration 700 lower bound 3.2931; gradient mag: 0.5584\n",
      "Iteration 800 lower bound 3.1895; gradient mag: 0.5370\n",
      "Iteration 900 lower bound 3.0880; gradient mag: 0.5035\n"
     ]
    }
   ],
   "source": [
    "# x_train, _ = generate_data(N=200, var=x_var) \n",
    "\n",
    "params = {'step_size':1e-2,\n",
    "      'max_iteration':1000,\n",
    "      'random_restarts':1,\n",
    "     }\n",
    "\n",
    "vae.fit(x_train.T, params=params, S=50)"
   ]
  },
  {
   "cell_type": "code",
   "execution_count": 8,
   "metadata": {},
   "outputs": [
    {
     "data": {
      "image/png": "[encoded data removed]",
      "text/plain": [
       "<Figure size 720x720 with 1 Axes>"
      ]
     },
     "metadata": {
      "needs_background": "light"
     },
     "output_type": "display_data"
    }
   ],
   "source": [
    "x_hat = vae.generate(N=300)\n",
    "x_hat = x_hat + numpy.random.normal(0, x_var**0.5, size=x_hat.shape)\n",
    "\n",
    "fig, ax = plt.subplots(1, 1, figsize=(10, 10))\n",
    "ax.scatter(x_train.T[0], x_train.T[1], color='black')\n",
    "ax.scatter(x_hat[0], x_hat[1], color='blue', alpha=0.5)\n",
    "\n",
    "plt.show()"
   ]
  },
  {
   "cell_type": "code",
   "execution_count": 31,
   "metadata": {},
   "outputs": [],
   "source": [
    "width = 100\n",
    "hidden_layers = 3\n",
    "input_dim = 2\n",
    "output_dim = 1\n",
    "activation_fn_type = 'relu'\n",
    "activation_fn = sigmoid\n",
    "output_activation_type = 'logistic'\n",
    "output_activation_fn = sigmoid\n",
    "\n",
    "classifier_architecture = {\n",
    "    'width': [width] * hidden_layers,\n",
    "    'hidden_layers': hidden_layers,\n",
    "    'input_dim': input_dim,\n",
    "    'output_dim': output_dim,\n",
    "    'activation_fn_type': activation_fn_type,\n",
    "    'activation_fn': activation_fn,\n",
    "    'activation_fn_params': None,\n",
    "    'output_activation_type': output_activation_type,\n",
    "    'output_activation_fn': output_activation_fn,\n",
    "    'task': 'classification'}\n",
    "\n",
    "classifier = Feedforward(classifier_architecture)"
   ]
  },
  {
   "cell_type": "code",
   "execution_count": 32,
   "metadata": {
    "scrolled": true
   },
   "outputs": [
    {
     "name": "stdout",
     "output_type": "stream",
     "text": [
      "Iteration 0 lower bound 1144.6499; gradient mag: 1849.4557\n",
      "Iteration 100 lower bound 308.7916; gradient mag: 1383.1505\n",
      "Iteration 200 lower bound 45.9661; gradient mag: 371.2573\n",
      "Iteration 300 lower bound 16.8633; gradient mag: 144.6880\n",
      "Iteration 400 lower bound 8.6334; gradient mag: 75.9818\n",
      "Iteration 500 lower bound 4.9253; gradient mag: 44.3462\n",
      "Iteration 600 lower bound 2.8654; gradient mag: 26.5416\n",
      "Iteration 700 lower bound 1.6575; gradient mag: 15.7705\n",
      "Iteration 800 lower bound 1.0318; gradient mag: 9.7336\n",
      "Iteration 900 lower bound 0.7251; gradient mag: 6.6335\n",
      "Iteration 1000 lower bound 0.5587; gradient mag: 4.9797\n",
      "Iteration 1100 lower bound 0.4562; gradient mag: 4.0010\n"
     ]
    },
    {
     "ename": "KeyboardInterrupt",
     "evalue": "",
     "output_type": "error",
     "traceback": [
      "\u001b[0;31m---------------------------------------------------------------------------\u001b[0m",
      "\u001b[0;31mKeyboardInterrupt\u001b[0m                         Traceback (most recent call last)",
      "\u001b[0;32m<ipython-input-32-ac63254ff17e>\u001b[0m in \u001b[0;36m<module>\u001b[0;34m\u001b[0m\n\u001b[1;32m      8\u001b[0m \u001b[0mX_std\u001b[0m \u001b[0;34m=\u001b[0m \u001b[0mX\u001b[0m\u001b[0;34m.\u001b[0m\u001b[0mstd\u001b[0m\u001b[0;34m(\u001b[0m\u001b[0;34m)\u001b[0m\u001b[0;34m\u001b[0m\u001b[0;34m\u001b[0m\u001b[0m\n\u001b[1;32m      9\u001b[0m \u001b[0mX_train\u001b[0m \u001b[0;34m=\u001b[0m \u001b[0;34m(\u001b[0m\u001b[0mX\u001b[0m \u001b[0;34m-\u001b[0m \u001b[0mX_mean\u001b[0m\u001b[0;34m)\u001b[0m \u001b[0;34m/\u001b[0m \u001b[0mX_std\u001b[0m\u001b[0;34m\u001b[0m\u001b[0;34m\u001b[0m\u001b[0m\n\u001b[0;32m---> 10\u001b[0;31m \u001b[0mclassifier\u001b[0m\u001b[0;34m.\u001b[0m\u001b[0mfit\u001b[0m\u001b[0;34m(\u001b[0m\u001b[0mX_train\u001b[0m\u001b[0;34m.\u001b[0m\u001b[0mT\u001b[0m\u001b[0;34m,\u001b[0m \u001b[0mindices\u001b[0m\u001b[0;34m.\u001b[0m\u001b[0mreshape\u001b[0m\u001b[0;34m(\u001b[0m\u001b[0;36m1\u001b[0m\u001b[0;34m,\u001b[0m\u001b[0;34m-\u001b[0m\u001b[0;36m1\u001b[0m\u001b[0;34m)\u001b[0m\u001b[0;34m,\u001b[0m \u001b[0mparams\u001b[0m\u001b[0;34m)\u001b[0m\u001b[0;34m\u001b[0m\u001b[0;34m\u001b[0m\u001b[0m\n\u001b[0m",
      "\u001b[0;32m~/Dropbox/school/am207/project/nn_models.py\u001b[0m in \u001b[0;36mfit\u001b[0;34m(self, x_train, y_train, params, reg_param)\u001b[0m\n\u001b[1;32m    158\u001b[0m \u001b[0;34m\u001b[0m\u001b[0m\n\u001b[1;32m    159\u001b[0m                 \u001b[0;32mfor\u001b[0m \u001b[0mi\u001b[0m \u001b[0;32min\u001b[0m \u001b[0mrange\u001b[0m\u001b[0;34m(\u001b[0m\u001b[0mmax_iteration\u001b[0m\u001b[0;34m)\u001b[0m\u001b[0;34m:\u001b[0m\u001b[0;34m\u001b[0m\u001b[0;34m\u001b[0m\u001b[0m\n\u001b[0;32m--> 160\u001b[0;31m                     \u001b[0mobjective\u001b[0m\u001b[0;34m,\u001b[0m \u001b[0mopt_state\u001b[0m \u001b[0;34m=\u001b[0m \u001b[0mstep\u001b[0m\u001b[0;34m(\u001b[0m\u001b[0mi\u001b[0m\u001b[0;34m,\u001b[0m \u001b[0mopt_state\u001b[0m\u001b[0;34m)\u001b[0m\u001b[0;34m\u001b[0m\u001b[0;34m\u001b[0m\u001b[0m\n\u001b[0m\u001b[1;32m    161\u001b[0m \u001b[0;34m\u001b[0m\u001b[0m\n\u001b[1;32m    162\u001b[0m                 \u001b[0;31m#adam(self.gradient, weights_init, step_size=step_size, num_iters=max_iteration, callback=call_back)\u001b[0m\u001b[0;34m\u001b[0m\u001b[0;34m\u001b[0m\u001b[0;34m\u001b[0m\u001b[0m\n",
      "\u001b[0;32m~/Dropbox/school/am207/project/nn_models.py\u001b[0m in \u001b[0;36mstep\u001b[0;34m(iteration, opt_state)\u001b[0m\n\u001b[1;32m    149\u001b[0m                 \u001b[0;32mdef\u001b[0m \u001b[0mstep\u001b[0m\u001b[0;34m(\u001b[0m\u001b[0miteration\u001b[0m\u001b[0;34m,\u001b[0m \u001b[0mopt_state\u001b[0m\u001b[0;34m)\u001b[0m\u001b[0;34m:\u001b[0m\u001b[0;34m\u001b[0m\u001b[0;34m\u001b[0m\u001b[0m\n\u001b[1;32m    150\u001b[0m                     \u001b[0mweights\u001b[0m \u001b[0;34m=\u001b[0m \u001b[0mget_params\u001b[0m\u001b[0;34m(\u001b[0m\u001b[0mopt_state\u001b[0m\u001b[0;34m)\u001b[0m\u001b[0;34m\u001b[0m\u001b[0;34m\u001b[0m\u001b[0m\n\u001b[0;32m--> 151\u001b[0;31m                     \u001b[0mobjective\u001b[0m\u001b[0;34m,\u001b[0m \u001b[0mgrads\u001b[0m \u001b[0;34m=\u001b[0m \u001b[0mjax\u001b[0m\u001b[0;34m.\u001b[0m\u001b[0mvalue_and_grad\u001b[0m\u001b[0;34m(\u001b[0m\u001b[0mself\u001b[0m\u001b[0;34m.\u001b[0m\u001b[0mobjective\u001b[0m\u001b[0;34m)\u001b[0m\u001b[0;34m(\u001b[0m\u001b[0mweights\u001b[0m\u001b[0;34m)\u001b[0m\u001b[0;34m\u001b[0m\u001b[0;34m\u001b[0m\u001b[0m\n\u001b[0m\u001b[1;32m    152\u001b[0m                     \u001b[0mself\u001b[0m\u001b[0;34m.\u001b[0m\u001b[0mobjective_trace\u001b[0m \u001b[0;34m=\u001b[0m \u001b[0mnp\u001b[0m\u001b[0;34m.\u001b[0m\u001b[0mvstack\u001b[0m\u001b[0;34m(\u001b[0m\u001b[0;34m(\u001b[0m\u001b[0mself\u001b[0m\u001b[0;34m.\u001b[0m\u001b[0mobjective_trace\u001b[0m\u001b[0;34m,\u001b[0m \u001b[0mobjective\u001b[0m\u001b[0;34m)\u001b[0m\u001b[0;34m)\u001b[0m\u001b[0;34m\u001b[0m\u001b[0;34m\u001b[0m\u001b[0m\n\u001b[1;32m    153\u001b[0m                     \u001b[0mself\u001b[0m\u001b[0;34m.\u001b[0m\u001b[0mweight_trace\u001b[0m \u001b[0;34m=\u001b[0m \u001b[0mnp\u001b[0m\u001b[0;34m.\u001b[0m\u001b[0mvstack\u001b[0m\u001b[0;34m(\u001b[0m\u001b[0;34m(\u001b[0m\u001b[0mself\u001b[0m\u001b[0;34m.\u001b[0m\u001b[0mweight_trace\u001b[0m\u001b[0;34m,\u001b[0m \u001b[0mweights\u001b[0m\u001b[0;34m)\u001b[0m\u001b[0;34m)\u001b[0m\u001b[0;34m\u001b[0m\u001b[0;34m\u001b[0m\u001b[0m\n",
      "\u001b[0;32m~/miniconda3/envs/am207/lib/python3.8/site-packages/jax/_src/traceback_util.py\u001b[0m in \u001b[0;36mreraise_with_filtered_traceback\u001b[0;34m(*args, **kwargs)\u001b[0m\n\u001b[1;32m    137\u001b[0m   \u001b[0;32mdef\u001b[0m \u001b[0mreraise_with_filtered_traceback\u001b[0m\u001b[0;34m(\u001b[0m\u001b[0;34m*\u001b[0m\u001b[0margs\u001b[0m\u001b[0;34m,\u001b[0m \u001b[0;34m**\u001b[0m\u001b[0mkwargs\u001b[0m\u001b[0;34m)\u001b[0m\u001b[0;34m:\u001b[0m\u001b[0;34m\u001b[0m\u001b[0;34m\u001b[0m\u001b[0m\n\u001b[1;32m    138\u001b[0m     \u001b[0;32mtry\u001b[0m\u001b[0;34m:\u001b[0m\u001b[0;34m\u001b[0m\u001b[0;34m\u001b[0m\u001b[0m\n\u001b[0;32m--> 139\u001b[0;31m       \u001b[0;32mreturn\u001b[0m \u001b[0mfun\u001b[0m\u001b[0;34m(\u001b[0m\u001b[0;34m*\u001b[0m\u001b[0margs\u001b[0m\u001b[0;34m,\u001b[0m \u001b[0;34m**\u001b[0m\u001b[0mkwargs\u001b[0m\u001b[0;34m)\u001b[0m\u001b[0;34m\u001b[0m\u001b[0;34m\u001b[0m\u001b[0m\n\u001b[0m\u001b[1;32m    140\u001b[0m     \u001b[0;32mexcept\u001b[0m \u001b[0mException\u001b[0m \u001b[0;32mas\u001b[0m \u001b[0me\u001b[0m\u001b[0;34m:\u001b[0m\u001b[0;34m\u001b[0m\u001b[0;34m\u001b[0m\u001b[0m\n\u001b[1;32m    141\u001b[0m       \u001b[0;32mif\u001b[0m \u001b[0;32mnot\u001b[0m \u001b[0mis_under_reraiser\u001b[0m\u001b[0;34m(\u001b[0m\u001b[0me\u001b[0m\u001b[0;34m)\u001b[0m\u001b[0;34m:\u001b[0m\u001b[0;34m\u001b[0m\u001b[0;34m\u001b[0m\u001b[0m\n",
      "\u001b[0;32m~/miniconda3/envs/am207/lib/python3.8/site-packages/jax/api.py\u001b[0m in \u001b[0;36mvalue_and_grad_f\u001b[0;34m(*args, **kwargs)\u001b[0m\n\u001b[1;32m    773\u001b[0m     \u001b[0mdtype\u001b[0m \u001b[0;34m=\u001b[0m \u001b[0mdtypes\u001b[0m\u001b[0;34m.\u001b[0m\u001b[0mresult_type\u001b[0m\u001b[0;34m(\u001b[0m\u001b[0mans\u001b[0m\u001b[0;34m)\u001b[0m\u001b[0;34m\u001b[0m\u001b[0;34m\u001b[0m\u001b[0m\n\u001b[1;32m    774\u001b[0m     \u001b[0mtree_map\u001b[0m\u001b[0;34m(\u001b[0m\u001b[0mpartial\u001b[0m\u001b[0;34m(\u001b[0m\u001b[0m_check_output_dtype_grad\u001b[0m\u001b[0;34m,\u001b[0m \u001b[0mholomorphic\u001b[0m\u001b[0;34m)\u001b[0m\u001b[0;34m,\u001b[0m \u001b[0mans\u001b[0m\u001b[0;34m)\u001b[0m\u001b[0;34m\u001b[0m\u001b[0;34m\u001b[0m\u001b[0m\n\u001b[0;32m--> 775\u001b[0;31m     \u001b[0mg\u001b[0m \u001b[0;34m=\u001b[0m \u001b[0mvjp_py\u001b[0m\u001b[0;34m(\u001b[0m\u001b[0mnp\u001b[0m\u001b[0;34m.\u001b[0m\u001b[0mones\u001b[0m\u001b[0;34m(\u001b[0m\u001b[0;34m(\u001b[0m\u001b[0;34m)\u001b[0m\u001b[0;34m,\u001b[0m \u001b[0mdtype\u001b[0m\u001b[0;34m=\u001b[0m\u001b[0mdtype\u001b[0m\u001b[0;34m)\u001b[0m\u001b[0;34m)\u001b[0m\u001b[0;34m\u001b[0m\u001b[0;34m\u001b[0m\u001b[0m\n\u001b[0m\u001b[1;32m    776\u001b[0m     \u001b[0mg\u001b[0m \u001b[0;34m=\u001b[0m \u001b[0mg\u001b[0m\u001b[0;34m[\u001b[0m\u001b[0;36m0\u001b[0m\u001b[0;34m]\u001b[0m \u001b[0;32mif\u001b[0m \u001b[0misinstance\u001b[0m\u001b[0;34m(\u001b[0m\u001b[0margnums\u001b[0m\u001b[0;34m,\u001b[0m \u001b[0mint\u001b[0m\u001b[0;34m)\u001b[0m \u001b[0;32melse\u001b[0m \u001b[0mg\u001b[0m\u001b[0;34m\u001b[0m\u001b[0;34m\u001b[0m\u001b[0m\n\u001b[1;32m    777\u001b[0m     \u001b[0;32mif\u001b[0m \u001b[0;32mnot\u001b[0m \u001b[0mhas_aux\u001b[0m\u001b[0;34m:\u001b[0m\u001b[0;34m\u001b[0m\u001b[0;34m\u001b[0m\u001b[0m\n",
      "\u001b[0;32m~/miniconda3/envs/am207/lib/python3.8/site-packages/jax/api.py\u001b[0m in \u001b[0;36m_vjp_pullback_wrapper\u001b[0;34m(cotangent_dtypes, io_tree, fun, py_args)\u001b[0m\n\u001b[1;32m   1790\u001b[0m              \"with dtype {}.\")\n\u001b[1;32m   1791\u001b[0m       \u001b[0;32mraise\u001b[0m \u001b[0mTypeError\u001b[0m\u001b[0;34m(\u001b[0m\u001b[0mmsg\u001b[0m\u001b[0;34m.\u001b[0m\u001b[0mformat\u001b[0m\u001b[0;34m(\u001b[0m\u001b[0mct_dtype\u001b[0m\u001b[0;34m,\u001b[0m \u001b[0mexpected_tangent_dtype\u001b[0m\u001b[0;34m,\u001b[0m \u001b[0m_dtype\u001b[0m\u001b[0;34m(\u001b[0m\u001b[0marg\u001b[0m\u001b[0;34m)\u001b[0m\u001b[0;34m)\u001b[0m\u001b[0;34m)\u001b[0m\u001b[0;34m\u001b[0m\u001b[0;34m\u001b[0m\u001b[0m\n\u001b[0;32m-> 1792\u001b[0;31m   \u001b[0mans\u001b[0m \u001b[0;34m=\u001b[0m \u001b[0mfun\u001b[0m\u001b[0;34m(\u001b[0m\u001b[0;34m*\u001b[0m\u001b[0margs\u001b[0m\u001b[0;34m)\u001b[0m\u001b[0;34m\u001b[0m\u001b[0;34m\u001b[0m\u001b[0m\n\u001b[0m\u001b[1;32m   1793\u001b[0m   \u001b[0;32mreturn\u001b[0m \u001b[0mtree_unflatten\u001b[0m\u001b[0;34m(\u001b[0m\u001b[0mout_tree\u001b[0m\u001b[0;34m,\u001b[0m \u001b[0mans\u001b[0m\u001b[0;34m)\u001b[0m\u001b[0;34m\u001b[0m\u001b[0;34m\u001b[0m\u001b[0m\n\u001b[1;32m   1794\u001b[0m \u001b[0;34m\u001b[0m\u001b[0m\n",
      "\u001b[0;32m~/miniconda3/envs/am207/lib/python3.8/site-packages/jax/interpreters/ad.py\u001b[0m in \u001b[0;36munbound_vjp\u001b[0;34m(pvals, jaxpr, consts, *cts)\u001b[0m\n\u001b[1;32m    119\u001b[0m     \u001b[0mcts\u001b[0m \u001b[0;34m=\u001b[0m \u001b[0mtuple\u001b[0m\u001b[0;34m(\u001b[0m\u001b[0mmap\u001b[0m\u001b[0;34m(\u001b[0m\u001b[0mignore_consts\u001b[0m\u001b[0;34m,\u001b[0m \u001b[0mcts\u001b[0m\u001b[0;34m,\u001b[0m \u001b[0mpvals\u001b[0m\u001b[0;34m)\u001b[0m\u001b[0;34m)\u001b[0m\u001b[0;34m\u001b[0m\u001b[0;34m\u001b[0m\u001b[0m\n\u001b[1;32m    120\u001b[0m     \u001b[0mdummy_args\u001b[0m \u001b[0;34m=\u001b[0m \u001b[0;34m[\u001b[0m\u001b[0mUndefinedPrimal\u001b[0m\u001b[0;34m(\u001b[0m\u001b[0mv\u001b[0m\u001b[0;34m.\u001b[0m\u001b[0maval\u001b[0m\u001b[0;34m)\u001b[0m \u001b[0;32mfor\u001b[0m \u001b[0mv\u001b[0m \u001b[0;32min\u001b[0m \u001b[0mjaxpr\u001b[0m\u001b[0;34m.\u001b[0m\u001b[0minvars\u001b[0m\u001b[0;34m]\u001b[0m\u001b[0;34m\u001b[0m\u001b[0;34m\u001b[0m\u001b[0m\n\u001b[0;32m--> 121\u001b[0;31m     \u001b[0marg_cts\u001b[0m \u001b[0;34m=\u001b[0m \u001b[0mbackward_pass\u001b[0m\u001b[0;34m(\u001b[0m\u001b[0mjaxpr\u001b[0m\u001b[0;34m,\u001b[0m \u001b[0mconsts\u001b[0m\u001b[0;34m,\u001b[0m \u001b[0mdummy_args\u001b[0m\u001b[0;34m,\u001b[0m \u001b[0mcts\u001b[0m\u001b[0;34m)\u001b[0m\u001b[0;34m\u001b[0m\u001b[0;34m\u001b[0m\u001b[0m\n\u001b[0m\u001b[1;32m    122\u001b[0m     \u001b[0;32mreturn\u001b[0m \u001b[0mmap\u001b[0m\u001b[0;34m(\u001b[0m\u001b[0minstantiate_zeros\u001b[0m\u001b[0;34m,\u001b[0m \u001b[0marg_cts\u001b[0m\u001b[0;34m)\u001b[0m\u001b[0;34m\u001b[0m\u001b[0;34m\u001b[0m\u001b[0m\n\u001b[1;32m    123\u001b[0m \u001b[0;34m\u001b[0m\u001b[0m\n",
      "\u001b[0;32m~/miniconda3/envs/am207/lib/python3.8/site-packages/jax/interpreters/ad.py\u001b[0m in \u001b[0;36mbackward_pass\u001b[0;34m(jaxpr, consts, primals_in, cotangents_in)\u001b[0m\n\u001b[1;32m    229\u001b[0m     \u001b[0mcts_out\u001b[0m \u001b[0;34m=\u001b[0m \u001b[0;34m[\u001b[0m\u001b[0mZero\u001b[0m\u001b[0;34m(\u001b[0m\u001b[0mv\u001b[0m\u001b[0;34m.\u001b[0m\u001b[0maval\u001b[0m\u001b[0;34m)\u001b[0m \u001b[0;32mfor\u001b[0m \u001b[0mv\u001b[0m \u001b[0;32min\u001b[0m \u001b[0meqn\u001b[0m\u001b[0;34m.\u001b[0m\u001b[0minvars\u001b[0m\u001b[0;34m]\u001b[0m \u001b[0;32mif\u001b[0m \u001b[0mcts_out\u001b[0m \u001b[0;32mis\u001b[0m \u001b[0mZero\u001b[0m \u001b[0;32melse\u001b[0m \u001b[0mcts_out\u001b[0m\u001b[0;34m\u001b[0m\u001b[0;34m\u001b[0m\u001b[0m\n\u001b[1;32m    230\u001b[0m     \u001b[0;31m# FIXME: Some invars correspond to primals!\u001b[0m\u001b[0;34m\u001b[0m\u001b[0;34m\u001b[0m\u001b[0;34m\u001b[0m\u001b[0m\n\u001b[0;32m--> 231\u001b[0;31m     \u001b[0mmap\u001b[0m\u001b[0;34m(\u001b[0m\u001b[0mpartial\u001b[0m\u001b[0;34m(\u001b[0m\u001b[0mwrite_cotangent\u001b[0m\u001b[0;34m,\u001b[0m \u001b[0meqn\u001b[0m\u001b[0;34m.\u001b[0m\u001b[0mprimitive\u001b[0m\u001b[0;34m)\u001b[0m\u001b[0;34m,\u001b[0m \u001b[0meqn\u001b[0m\u001b[0;34m.\u001b[0m\u001b[0minvars\u001b[0m\u001b[0;34m,\u001b[0m \u001b[0mcts_out\u001b[0m\u001b[0;34m)\u001b[0m\u001b[0;34m\u001b[0m\u001b[0;34m\u001b[0m\u001b[0m\n\u001b[0m\u001b[1;32m    232\u001b[0m     \u001b[0;32mfor\u001b[0m \u001b[0mvar\u001b[0m \u001b[0;32min\u001b[0m \u001b[0mto_drop\u001b[0m\u001b[0;34m:\u001b[0m\u001b[0;34m\u001b[0m\u001b[0;34m\u001b[0m\u001b[0m\n\u001b[1;32m    233\u001b[0m       \u001b[0mct_env\u001b[0m\u001b[0;34m.\u001b[0m\u001b[0mpop\u001b[0m\u001b[0;34m(\u001b[0m\u001b[0mvar\u001b[0m\u001b[0;34m,\u001b[0m \u001b[0;32mNone\u001b[0m\u001b[0;34m)\u001b[0m  \u001b[0;31m# NB: Constant cotangents might be missing\u001b[0m\u001b[0;34m\u001b[0m\u001b[0;34m\u001b[0m\u001b[0m\n",
      "\u001b[0;32m~/miniconda3/envs/am207/lib/python3.8/site-packages/jax/util.py\u001b[0m in \u001b[0;36msafe_map\u001b[0;34m(f, *args)\u001b[0m\n\u001b[1;32m     30\u001b[0m \u001b[0;34m\u001b[0m\u001b[0m\n\u001b[1;32m     31\u001b[0m \u001b[0;32mdef\u001b[0m \u001b[0msafe_map\u001b[0m\u001b[0;34m(\u001b[0m\u001b[0mf\u001b[0m\u001b[0;34m,\u001b[0m \u001b[0;34m*\u001b[0m\u001b[0margs\u001b[0m\u001b[0;34m)\u001b[0m\u001b[0;34m:\u001b[0m\u001b[0;34m\u001b[0m\u001b[0;34m\u001b[0m\u001b[0m\n\u001b[0;32m---> 32\u001b[0;31m   \u001b[0margs\u001b[0m \u001b[0;34m=\u001b[0m \u001b[0mlist\u001b[0m\u001b[0;34m(\u001b[0m\u001b[0mmap\u001b[0m\u001b[0;34m(\u001b[0m\u001b[0mlist\u001b[0m\u001b[0;34m,\u001b[0m \u001b[0margs\u001b[0m\u001b[0;34m)\u001b[0m\u001b[0;34m)\u001b[0m\u001b[0;34m\u001b[0m\u001b[0;34m\u001b[0m\u001b[0m\n\u001b[0m\u001b[1;32m     33\u001b[0m   \u001b[0mn\u001b[0m \u001b[0;34m=\u001b[0m \u001b[0mlen\u001b[0m\u001b[0;34m(\u001b[0m\u001b[0margs\u001b[0m\u001b[0;34m[\u001b[0m\u001b[0;36m0\u001b[0m\u001b[0;34m]\u001b[0m\u001b[0;34m)\u001b[0m\u001b[0;34m\u001b[0m\u001b[0;34m\u001b[0m\u001b[0m\n\u001b[1;32m     34\u001b[0m   \u001b[0;32mfor\u001b[0m \u001b[0marg\u001b[0m \u001b[0;32min\u001b[0m \u001b[0margs\u001b[0m\u001b[0;34m[\u001b[0m\u001b[0;36m1\u001b[0m\u001b[0;34m:\u001b[0m\u001b[0;34m]\u001b[0m\u001b[0;34m:\u001b[0m\u001b[0;34m\u001b[0m\u001b[0;34m\u001b[0m\u001b[0m\n",
      "\u001b[0;31mKeyboardInterrupt\u001b[0m: "
     ]
    }
   ],
   "source": [
    "params = {'step_size':1e-4,\n",
    "      'max_iteration':5000,\n",
    "      'random_restarts':1,\n",
    "     }\n",
    "\n",
    "X = np.array(samples)\n",
    "X_mean = X.mean()\n",
    "X_std = X.std()\n",
    "X_train = (X - X_mean) / X_std\n",
    "classifier.fit(X_train.T, indices.reshape(1,-1), params)"
   ]
  },
  {
   "cell_type": "code",
   "execution_count": 35,
   "metadata": {},
   "outputs": [
    {
     "data": {
      "text/plain": [
       "DeviceArray([ 1.795131  ,  0.4333938 ,  0.94893295, ...,  0.60624826,\n",
       "             -0.27759185,  0.7844895 ], dtype=float32)"
      ]
     },
     "execution_count": 35,
     "metadata": {},
     "output_type": "execute_result"
    }
   ],
   "source": [
    "classifier.weight_trace[-1]"
   ]
  },
  {
   "cell_type": "code",
   "execution_count": 37,
   "metadata": {},
   "outputs": [
    {
     "data": {
      "text/plain": [
       "20601"
      ]
     },
     "execution_count": 37,
     "metadata": {},
     "output_type": "execute_result"
    }
   ],
   "source": [
    "classifier.D"
   ]
  },
  {
   "cell_type": "code",
   "execution_count": 41,
   "metadata": {},
   "outputs": [
    {
     "data": {
      "text/plain": [
       "(1, 20601)"
      ]
     },
     "execution_count": 41,
     "metadata": {},
     "output_type": "execute_result"
    }
   ],
   "source": [
    "classifier.weight_trace[-1].reshape(1, -1).shape"
   ]
  },
  {
   "cell_type": "code",
   "execution_count": 36,
   "metadata": {},
   "outputs": [
    {
     "ename": "IndexError",
     "evalue": "tuple index out of range",
     "output_type": "error",
     "traceback": [
      "\u001b[0;31m---------------------------------------------------------------------------\u001b[0m",
      "\u001b[0;31mIndexError\u001b[0m                                Traceback (most recent call last)",
      "\u001b[0;32m<ipython-input-36-4cc4f82e4423>\u001b[0m in \u001b[0;36m<module>\u001b[0;34m\u001b[0m\n\u001b[0;32m----> 1\u001b[0;31m \u001b[0mclassifier\u001b[0m\u001b[0;34m.\u001b[0m\u001b[0mforward\u001b[0m\u001b[0;34m(\u001b[0m\u001b[0mclassifier\u001b[0m\u001b[0;34m.\u001b[0m\u001b[0mweight_trace\u001b[0m\u001b[0;34m[\u001b[0m\u001b[0;34m-\u001b[0m\u001b[0;36m1\u001b[0m\u001b[0;34m]\u001b[0m\u001b[0;34m,\u001b[0m \u001b[0mX_train\u001b[0m\u001b[0;34m.\u001b[0m\u001b[0mT\u001b[0m\u001b[0;34m)\u001b[0m\u001b[0;34m\u001b[0m\u001b[0;34m\u001b[0m\u001b[0m\n\u001b[0m",
      "\u001b[0;32m~/Dropbox/school/am207/project/nn_models.py\u001b[0m in \u001b[0;36mforward\u001b[0;34m(self, weights, x)\u001b[0m\n\u001b[1;32m     52\u001b[0m         \u001b[0mD_out\u001b[0m \u001b[0;34m=\u001b[0m \u001b[0mself\u001b[0m\u001b[0;34m.\u001b[0m\u001b[0mparams\u001b[0m\u001b[0;34m[\u001b[0m\u001b[0;34m'D_out'\u001b[0m\u001b[0;34m]\u001b[0m\u001b[0;34m\u001b[0m\u001b[0;34m\u001b[0m\u001b[0m\n\u001b[1;32m     53\u001b[0m \u001b[0;34m\u001b[0m\u001b[0m\n\u001b[0;32m---> 54\u001b[0;31m         \u001b[0;32massert\u001b[0m \u001b[0mweights\u001b[0m\u001b[0;34m.\u001b[0m\u001b[0mshape\u001b[0m\u001b[0;34m[\u001b[0m\u001b[0;36m1\u001b[0m\u001b[0;34m]\u001b[0m \u001b[0;34m==\u001b[0m \u001b[0mself\u001b[0m\u001b[0;34m.\u001b[0m\u001b[0mD\u001b[0m\u001b[0;34m\u001b[0m\u001b[0;34m\u001b[0m\u001b[0m\n\u001b[0m\u001b[1;32m     55\u001b[0m \u001b[0;34m\u001b[0m\u001b[0m\n\u001b[1;32m     56\u001b[0m         \u001b[0;32mif\u001b[0m \u001b[0mlen\u001b[0m\u001b[0;34m(\u001b[0m\u001b[0mx\u001b[0m\u001b[0;34m.\u001b[0m\u001b[0mshape\u001b[0m\u001b[0;34m)\u001b[0m \u001b[0;34m==\u001b[0m \u001b[0;36m2\u001b[0m\u001b[0;34m:\u001b[0m\u001b[0;34m\u001b[0m\u001b[0;34m\u001b[0m\u001b[0m\n",
      "\u001b[0;31mIndexError\u001b[0m: tuple index out of range"
     ]
    }
   ],
   "source": [
    "classifier.forward(classifier.weight_trace[-1], X_train.T)"
   ]
  },
  {
   "cell_type": "code",
   "execution_count": null,
   "metadata": {},
   "outputs": [],
   "source": [
    "ax.scatter(x_train.T[0], x_train.T[1], color='black')\n",
    "ax.scatter(x_hat[0], x_hat[1], color='blue', alpha=0.5)\n",
    "\n",
    "plt.show()"
   ]
  }
 ],
 "metadata": {
  "kernelspec": {
   "display_name": "Python 3",
   "language": "python",
   "name": "python3"
  },
  "language_info": {
   "codemirror_mode": {
    "name": "ipython",
    "version": 3
   },
   "file_extension": ".py",
   "mimetype": "text/x-python",
   "name": "python",
   "nbconvert_exporter": "python",
   "pygments_lexer": "ipython3",
   "version": "3.8.5"
  }
 },
 "nbformat": 4,
 "nbformat_minor": 4
}
